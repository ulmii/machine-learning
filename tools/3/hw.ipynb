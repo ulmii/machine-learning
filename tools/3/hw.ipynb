{
 "cells": [
  {
   "cell_type": "code",
   "execution_count": 1,
   "id": "broadband-belfast",
   "metadata": {},
   "outputs": [],
   "source": [
    "import pandas as pd"
   ]
  },
  {
   "cell_type": "code",
   "execution_count": 2,
   "id": "timely-hartford",
   "metadata": {},
   "outputs": [
    {
     "data": {
      "text/html": [
       "<div>\n",
       "<style scoped>\n",
       "    .dataframe tbody tr th:only-of-type {\n",
       "        vertical-align: middle;\n",
       "    }\n",
       "\n",
       "    .dataframe tbody tr th {\n",
       "        vertical-align: top;\n",
       "    }\n",
       "\n",
       "    .dataframe thead th {\n",
       "        text-align: right;\n",
       "    }\n",
       "</style>\n",
       "<table border=\"1\" class=\"dataframe\">\n",
       "  <thead>\n",
       "    <tr style=\"text-align: right;\">\n",
       "      <th></th>\n",
       "      <th>Tytuł</th>\n",
       "      <th>Wydawnictwo</th>\n",
       "      <th>Rok wydania</th>\n",
       "      <th>Liczba stron</th>\n",
       "    </tr>\n",
       "  </thead>\n",
       "  <tbody>\n",
       "    <tr>\n",
       "      <th>0</th>\n",
       "      <td>Nie-Boska komedia</td>\n",
       "      <td>GREG</td>\n",
       "      <td>2009</td>\n",
       "      <td>110</td>\n",
       "    </tr>\n",
       "    <tr>\n",
       "      <th>1</th>\n",
       "      <td>Hamlet</td>\n",
       "      <td>Polskapresse</td>\n",
       "      <td>2005</td>\n",
       "      <td>160</td>\n",
       "    </tr>\n",
       "    <tr>\n",
       "      <th>2</th>\n",
       "      <td>Tajemniczy ogród</td>\n",
       "      <td>GREG</td>\n",
       "      <td>2004</td>\n",
       "      <td>224</td>\n",
       "    </tr>\n",
       "    <tr>\n",
       "      <th>3</th>\n",
       "      <td>Quo vadis</td>\n",
       "      <td>GREG</td>\n",
       "      <td>2006</td>\n",
       "      <td>459</td>\n",
       "    </tr>\n",
       "    <tr>\n",
       "      <th>4</th>\n",
       "      <td>Pinokio</td>\n",
       "      <td>MEA</td>\n",
       "      <td>2001</td>\n",
       "      <td>64</td>\n",
       "    </tr>\n",
       "  </tbody>\n",
       "</table>\n",
       "</div>"
      ],
      "text/plain": [
       "               Tytuł   Wydawnictwo  Rok wydania  Liczba stron\n",
       "0  Nie-Boska komedia          GREG         2009           110\n",
       "1             Hamlet  Polskapresse         2005           160\n",
       "2   Tajemniczy ogród          GREG         2004           224\n",
       "3          Quo vadis          GREG         2006           459\n",
       "4            Pinokio           MEA         2001            64"
      ]
     },
     "execution_count": 2,
     "metadata": {},
     "output_type": "execute_result"
    }
   ],
   "source": [
    "book_dict = {\n",
    "    \"Tytuł\": pd.Series([\"Nie-Boska komedia\", \"Hamlet\", \"Tajemniczy ogród\", \"Quo vadis\", \"Pinokio\"]),\n",
    "    \"Wydawnictwo\": pd.Series([\"GREG\", \"Polskapresse\", \"GREG\", \"GREG\", \"MEA\"]),\n",
    "    \"Rok wydania\": pd.Series([2009, 2005, 2004, 2006, 2001]),\n",
    "    \"Liczba stron\": pd.Series([110, 160, 224, 459, 64])\n",
    "}\n",
    "\n",
    "books = pd.DataFrame(book_dict)\n",
    "books"
   ]
  },
  {
   "cell_type": "markdown",
   "id": "constitutional-validity",
   "metadata": {},
   "source": [
    "## Dwa pierwsze rekordy"
   ]
  },
  {
   "cell_type": "code",
   "execution_count": 3,
   "id": "matched-vitamin",
   "metadata": {},
   "outputs": [
    {
     "data": {
      "text/html": [
       "<div>\n",
       "<style scoped>\n",
       "    .dataframe tbody tr th:only-of-type {\n",
       "        vertical-align: middle;\n",
       "    }\n",
       "\n",
       "    .dataframe tbody tr th {\n",
       "        vertical-align: top;\n",
       "    }\n",
       "\n",
       "    .dataframe thead th {\n",
       "        text-align: right;\n",
       "    }\n",
       "</style>\n",
       "<table border=\"1\" class=\"dataframe\">\n",
       "  <thead>\n",
       "    <tr style=\"text-align: right;\">\n",
       "      <th></th>\n",
       "      <th>Tytuł</th>\n",
       "      <th>Wydawnictwo</th>\n",
       "      <th>Rok wydania</th>\n",
       "      <th>Liczba stron</th>\n",
       "    </tr>\n",
       "  </thead>\n",
       "  <tbody>\n",
       "    <tr>\n",
       "      <th>0</th>\n",
       "      <td>Nie-Boska komedia</td>\n",
       "      <td>GREG</td>\n",
       "      <td>2009</td>\n",
       "      <td>110</td>\n",
       "    </tr>\n",
       "    <tr>\n",
       "      <th>1</th>\n",
       "      <td>Hamlet</td>\n",
       "      <td>Polskapresse</td>\n",
       "      <td>2005</td>\n",
       "      <td>160</td>\n",
       "    </tr>\n",
       "  </tbody>\n",
       "</table>\n",
       "</div>"
      ],
      "text/plain": [
       "               Tytuł   Wydawnictwo  Rok wydania  Liczba stron\n",
       "0  Nie-Boska komedia          GREG         2009           110\n",
       "1             Hamlet  Polskapresse         2005           160"
      ]
     },
     "execution_count": 3,
     "metadata": {},
     "output_type": "execute_result"
    }
   ],
   "source": [
    "books.iloc[0:2]"
   ]
  },
  {
   "cell_type": "markdown",
   "id": "polyphonic-minutes",
   "metadata": {},
   "source": [
    "## Dwie dowolne kolumny"
   ]
  },
  {
   "cell_type": "code",
   "execution_count": 4,
   "id": "broadband-eagle",
   "metadata": {},
   "outputs": [
    {
     "data": {
      "text/html": [
       "<div>\n",
       "<style scoped>\n",
       "    .dataframe tbody tr th:only-of-type {\n",
       "        vertical-align: middle;\n",
       "    }\n",
       "\n",
       "    .dataframe tbody tr th {\n",
       "        vertical-align: top;\n",
       "    }\n",
       "\n",
       "    .dataframe thead th {\n",
       "        text-align: right;\n",
       "    }\n",
       "</style>\n",
       "<table border=\"1\" class=\"dataframe\">\n",
       "  <thead>\n",
       "    <tr style=\"text-align: right;\">\n",
       "      <th></th>\n",
       "      <th>Tytuł</th>\n",
       "      <th>Liczba stron</th>\n",
       "    </tr>\n",
       "  </thead>\n",
       "  <tbody>\n",
       "    <tr>\n",
       "      <th>0</th>\n",
       "      <td>Nie-Boska komedia</td>\n",
       "      <td>110</td>\n",
       "    </tr>\n",
       "    <tr>\n",
       "      <th>1</th>\n",
       "      <td>Hamlet</td>\n",
       "      <td>160</td>\n",
       "    </tr>\n",
       "    <tr>\n",
       "      <th>2</th>\n",
       "      <td>Tajemniczy ogród</td>\n",
       "      <td>224</td>\n",
       "    </tr>\n",
       "    <tr>\n",
       "      <th>3</th>\n",
       "      <td>Quo vadis</td>\n",
       "      <td>459</td>\n",
       "    </tr>\n",
       "    <tr>\n",
       "      <th>4</th>\n",
       "      <td>Pinokio</td>\n",
       "      <td>64</td>\n",
       "    </tr>\n",
       "  </tbody>\n",
       "</table>\n",
       "</div>"
      ],
      "text/plain": [
       "               Tytuł  Liczba stron\n",
       "0  Nie-Boska komedia           110\n",
       "1             Hamlet           160\n",
       "2   Tajemniczy ogród           224\n",
       "3          Quo vadis           459\n",
       "4            Pinokio            64"
      ]
     },
     "execution_count": 4,
     "metadata": {},
     "output_type": "execute_result"
    }
   ],
   "source": [
    "books[[\"Tytuł\", \"Liczba stron\"]]"
   ]
  },
  {
   "cell_type": "markdown",
   "id": "forbidden-sector",
   "metadata": {},
   "source": [
    "## Modyfikacja komórki"
   ]
  },
  {
   "cell_type": "code",
   "execution_count": 6,
   "id": "republican-viking",
   "metadata": {},
   "outputs": [
    {
     "data": {
      "text/html": [
       "<div>\n",
       "<style scoped>\n",
       "    .dataframe tbody tr th:only-of-type {\n",
       "        vertical-align: middle;\n",
       "    }\n",
       "\n",
       "    .dataframe tbody tr th {\n",
       "        vertical-align: top;\n",
       "    }\n",
       "\n",
       "    .dataframe thead th {\n",
       "        text-align: right;\n",
       "    }\n",
       "</style>\n",
       "<table border=\"1\" class=\"dataframe\">\n",
       "  <thead>\n",
       "    <tr style=\"text-align: right;\">\n",
       "      <th></th>\n",
       "      <th>Tytuł</th>\n",
       "      <th>Wydawnictwo</th>\n",
       "      <th>Rok wydania</th>\n",
       "      <th>Liczba stron</th>\n",
       "    </tr>\n",
       "  </thead>\n",
       "  <tbody>\n",
       "    <tr>\n",
       "      <th>0</th>\n",
       "      <td>Nie-Boska komedia</td>\n",
       "      <td>GREG</td>\n",
       "      <td>2009</td>\n",
       "      <td>110</td>\n",
       "    </tr>\n",
       "    <tr>\n",
       "      <th>1</th>\n",
       "      <td>Hamlet</td>\n",
       "      <td>Polskapresse</td>\n",
       "      <td>2005</td>\n",
       "      <td>160</td>\n",
       "    </tr>\n",
       "    <tr>\n",
       "      <th>2</th>\n",
       "      <td>Tajemniczy ogród</td>\n",
       "      <td>GREG</td>\n",
       "      <td>2004</td>\n",
       "      <td>224</td>\n",
       "    </tr>\n",
       "    <tr>\n",
       "      <th>3</th>\n",
       "      <td>QUO_VADIS</td>\n",
       "      <td>GREG</td>\n",
       "      <td>2006</td>\n",
       "      <td>459</td>\n",
       "    </tr>\n",
       "    <tr>\n",
       "      <th>4</th>\n",
       "      <td>Pinokio</td>\n",
       "      <td>MEA</td>\n",
       "      <td>2001</td>\n",
       "      <td>64</td>\n",
       "    </tr>\n",
       "  </tbody>\n",
       "</table>\n",
       "</div>"
      ],
      "text/plain": [
       "               Tytuł   Wydawnictwo  Rok wydania  Liczba stron\n",
       "0  Nie-Boska komedia          GREG         2009           110\n",
       "1             Hamlet  Polskapresse         2005           160\n",
       "2   Tajemniczy ogród          GREG         2004           224\n",
       "3          QUO_VADIS          GREG         2006           459\n",
       "4            Pinokio           MEA         2001            64"
      ]
     },
     "execution_count": 6,
     "metadata": {},
     "output_type": "execute_result"
    }
   ],
   "source": [
    "new_books = books.copy()\n",
    "new_books.at[3, 'Tytuł'] = 'QUO_VADIS'"
   ]
  },
  {
   "cell_type": "markdown",
   "id": "western-repair",
   "metadata": {},
   "source": [
    "## Zapis do csv"
   ]
  },
  {
   "cell_type": "code",
   "execution_count": 8,
   "id": "gentle-privacy",
   "metadata": {},
   "outputs": [],
   "source": [
    "try:\n",
    "    new_books.to_excel(\"books.xlsx\", sheet_name='Books')\n",
    "except ImportError as e:\n",
    "    print(e)"
   ]
  }
 ],
 "metadata": {
  "kernelspec": {
   "display_name": "Python 3",
   "language": "python",
   "name": "python3"
  },
  "language_info": {
   "codemirror_mode": {
    "name": "ipython",
    "version": 3
   },
   "file_extension": ".py",
   "mimetype": "text/x-python",
   "name": "python",
   "nbconvert_exporter": "python",
   "pygments_lexer": "ipython3",
   "version": "3.8.8"
  }
 },
 "nbformat": 4,
 "nbformat_minor": 5
}
