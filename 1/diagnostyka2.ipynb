{
 "cells": [
  {
   "cell_type": "markdown",
   "metadata": {},
   "source": [
    "# Python"
   ]
  },
  {
   "cell_type": "code",
   "execution_count": 54,
   "metadata": {
    "scrolled": true
   },
   "outputs": [
    {
     "name": "stdout",
     "output_type": "stream",
     "text": [
      "3.8.8 (tags/v3.8.8:024d805, Feb 19 2021, 13:18:16) [MSC v.1928 64 bit (AMD64)]\n"
     ]
    }
   ],
   "source": [
    "import sys\n",
    "print(sys.version)"
   ]
  },
  {
   "cell_type": "code",
   "execution_count": 55,
   "metadata": {},
   "outputs": [
    {
     "data": {
      "text/plain": [
       "['C:\\\\P\\\\studia\\\\machine-learning\\\\1',\n",
       " 'c:\\\\users\\\\konrad ulman\\\\appdata\\\\local\\\\programs\\\\python\\\\python38\\\\python38.zip',\n",
       " 'c:\\\\users\\\\konrad ulman\\\\appdata\\\\local\\\\programs\\\\python\\\\python38\\\\DLLs',\n",
       " 'c:\\\\users\\\\konrad ulman\\\\appdata\\\\local\\\\programs\\\\python\\\\python38\\\\lib',\n",
       " 'c:\\\\users\\\\konrad ulman\\\\appdata\\\\local\\\\programs\\\\python\\\\python38',\n",
       " '',\n",
       " 'C:\\\\Users\\\\Konrad Ulman\\\\AppData\\\\Roaming\\\\Python\\\\Python38\\\\site-packages',\n",
       " 'c:\\\\users\\\\konrad ulman\\\\appdata\\\\local\\\\programs\\\\python\\\\python38\\\\lib\\\\site-packages',\n",
       " 'c:\\\\users\\\\konrad ulman\\\\appdata\\\\local\\\\programs\\\\python\\\\python38\\\\lib\\\\site-packages\\\\win32',\n",
       " 'c:\\\\users\\\\konrad ulman\\\\appdata\\\\local\\\\programs\\\\python\\\\python38\\\\lib\\\\site-packages\\\\win32\\\\lib',\n",
       " 'c:\\\\users\\\\konrad ulman\\\\appdata\\\\local\\\\programs\\\\python\\\\python38\\\\lib\\\\site-packages\\\\Pythonwin',\n",
       " 'c:\\\\users\\\\konrad ulman\\\\appdata\\\\local\\\\programs\\\\python\\\\python38\\\\lib\\\\site-packages\\\\IPython\\\\extensions',\n",
       " 'C:\\\\Users\\\\Konrad Ulman\\\\.ipython']"
      ]
     },
     "execution_count": 55,
     "metadata": {},
     "output_type": "execute_result"
    }
   ],
   "source": [
    "sys.path"
   ]
  },
  {
   "cell_type": "code",
   "execution_count": 56,
   "metadata": {},
   "outputs": [
    {
     "name": "stdout",
     "output_type": "stream",
     "text": [
      "sys.path = [\n",
      "    'C:\\\\P\\\\studia\\\\machine-learning\\\\1',\n",
      "    'C:\\\\Users\\\\Konrad Ulman\\\\AppData\\\\Local\\\\Programs\\\\Python\\\\Python38\\\\python38.zip',\n",
      "    'C:\\\\Users\\\\Konrad Ulman\\\\AppData\\\\Local\\\\Programs\\\\Python\\\\Python38\\\\DLLs',\n",
      "    'C:\\\\Users\\\\Konrad Ulman\\\\AppData\\\\Local\\\\Programs\\\\Python\\\\Python38\\\\lib',\n",
      "    'C:\\\\Users\\\\Konrad Ulman\\\\AppData\\\\Local\\\\Programs\\\\Python\\\\Python38',\n",
      "    'C:\\\\Users\\\\Konrad Ulman\\\\AppData\\\\Roaming\\\\Python\\\\Python38\\\\site-packages',\n",
      "    'C:\\\\Users\\\\Konrad Ulman\\\\AppData\\\\Local\\\\Programs\\\\Python\\\\Python38\\\\lib\\\\site-packages',\n",
      "    'C:\\\\Users\\\\Konrad Ulman\\\\AppData\\\\Local\\\\Programs\\\\Python\\\\Python38\\\\lib\\\\site-packages\\\\win32',\n",
      "    'C:\\\\Users\\\\Konrad Ulman\\\\AppData\\\\Local\\\\Programs\\\\Python\\\\Python38\\\\lib\\\\site-packages\\\\win32\\\\lib',\n",
      "    'C:\\\\Users\\\\Konrad Ulman\\\\AppData\\\\Local\\\\Programs\\\\Python\\\\Python38\\\\lib\\\\site-packages\\\\Pythonwin',\n",
      "]\n",
      "USER_BASE: 'C:\\\\Users\\\\Konrad Ulman\\\\AppData\\\\Roaming\\\\Python' (exists)\n",
      "USER_SITE: 'C:\\\\Users\\\\Konrad Ulman\\\\AppData\\\\Roaming\\\\Python\\\\Python38\\\\site-packages' (exists)\n",
      "ENABLE_USER_SITE: True\n",
      "\n",
      "C:\\Users\\Konrad Ulman\\AppData\\Roaming\\Python\\Python38\\site-packages\n"
     ]
    }
   ],
   "source": [
    "#ścieżki Pythona\n",
    "#PowerShell> $Env:PATH\n",
    "!py -m site\n",
    "print()\n",
    "!py -m site --user-site"
   ]
  },
  {
   "cell_type": "code",
   "execution_count": 57,
   "metadata": {},
   "outputs": [
    {
     "name": "stdout",
     "output_type": "stream",
     "text": [
      "Python 3.8.8\n"
     ]
    }
   ],
   "source": [
    "!python --version"
   ]
  },
  {
   "cell_type": "code",
   "execution_count": 58,
   "metadata": {},
   "outputs": [
    {
     "name": "stdout",
     "output_type": "stream",
     "text": [
      "usage: python [option] ... [-c cmd | -m mod | file | -] [arg] ...\n",
      "Options and arguments (and corresponding environment variables):\n",
      "-b     : issue warnings about str(bytes_instance), str(bytearray_instance)\n",
      "         and comparing bytes/bytearray with str. (-bb: issue errors)\n",
      "-B     : don't write .pyc files on import; also PYTHONDONTWRITEBYTECODE=x\n",
      "-c cmd : program passed in as string (terminates option list)\n",
      "-d     : debug output from parser; also PYTHONDEBUG=x\n",
      "-E     : ignore PYTHON* environment variables (such as PYTHONPATH)\n",
      "-h     : print this help message and exit (also --help)\n",
      "-i     : inspect interactively after running script; forces a prompt even\n",
      "         if stdin does not appear to be a terminal; also PYTHONINSPECT=x\n",
      "-I     : isolate Python from the user's environment (implies -E and -s)\n",
      "-m mod : run library module as a script (terminates option list)\n",
      "-O     : remove assert and __debug__-dependent statements; add .opt-1 before\n",
      "         .pyc extension; also PYTHONOPTIMIZE=x\n",
      "-OO    : do -O changes and also discard docstrings; add .opt-2 before\n",
      "         .pyc extension\n",
      "-q     : don't print version and copyright messages on interactive startup\n",
      "-s     : don't add user site directory to sys.path; also PYTHONNOUSERSITE\n",
      "-S     : don't imply 'import site' on initialization\n",
      "-u     : force the stdout and stderr streams to be unbuffered;\n",
      "         this option has no effect on stdin; also PYTHONUNBUFFERED=x\n",
      "-v     : verbose (trace import statements); also PYTHONVERBOSE=x\n",
      "         can be supplied multiple times to increase verbosity\n",
      "-V     : print the Python version number and exit (also --version)\n",
      "         when given twice, print more information about the build\n",
      "-W arg : warning control; arg is action:message:category:module:lineno\n",
      "         also PYTHONWARNINGS=arg\n",
      "-x     : skip first line of source, allowing use of non-Unix forms of #!cmd\n",
      "-X opt : set implementation-specific option. The following options are available:\n",
      "\n",
      "         -X faulthandler: enable faulthandler\n",
      "         -X showrefcount: output the total reference count and number of used\n",
      "             memory blocks when the program finishes or after each statement in the\n",
      "             interactive interpreter. This only works on debug builds\n",
      "         -X tracemalloc: start tracing Python memory allocations using the\n",
      "             tracemalloc module. By default, only the most recent frame is stored in a\n",
      "             traceback of a trace. Use -X tracemalloc=NFRAME to start tracing with a\n",
      "             traceback limit of NFRAME frames\n",
      "         -X showalloccount: output the total count of allocated objects for each\n",
      "             type when the program finishes. This only works when Python was built with\n",
      "             COUNT_ALLOCS defined\n",
      "         -X importtime: show how long each import takes. It shows module name,\n",
      "             cumulative time (including nested imports) and self time (excluding\n",
      "             nested imports). Note that its output may be broken in multi-threaded\n",
      "             application. Typical usage is python3 -X importtime -c 'import asyncio'\n",
      "         -X dev: enable CPython's \"development mode\", introducing additional runtime\n",
      "             checks which are too expensive to be enabled by default. Effect of the\n",
      "             developer mode:\n",
      "                * Add default warning filter, as -W default\n",
      "                * Install debug hooks on memory allocators: see the PyMem_SetupDebugHooks() C function\n",
      "                * Enable the faulthandler module to dump the Python traceback on a crash\n",
      "                * Enable asyncio debug mode\n",
      "                * Set the dev_mode attribute of sys.flags to True\n",
      "                * io.IOBase destructor logs close() exceptions\n",
      "         -X utf8: enable UTF-8 mode for operating system interfaces, overriding the default\n",
      "             locale-aware mode. -X utf8=0 explicitly disables UTF-8 mode (even when it would\n",
      "             otherwise activate automatically)\n",
      "         -X pycache_prefix=PATH: enable writing .pyc files to a parallel tree rooted at the\n",
      "             given directory instead of to the code tree\n",
      "\n",
      "--check-hash-based-pycs always|default|never:\n",
      "    control how Python invalidates hash-based .pyc files\n",
      "file   : program read from script file\n",
      "-      : program read from stdin (default; interactive mode if a tty)\n",
      "arg ...: arguments passed to program in sys.argv[1:]\n",
      "\n",
      "Other environment variables:\n",
      "PYTHONSTARTUP: file executed on interactive startup (no default)\n"
     ]
    }
   ],
   "source": [
    "!python --help"
   ]
  },
  {
   "cell_type": "code",
   "execution_count": 59,
   "metadata": {},
   "outputs": [
    {
     "name": "stdout",
     "output_type": "stream",
     "text": [
      "PYTHONPATH   : ';'-separated list of directories prefixed to the\n",
      "               default module search path.  The result is sys.path.\n",
      "PYTHONHOME   : alternate <prefix> directory (or <prefix>;<exec_prefix>).\n",
      "               The default module search path uses <prefix>\\python{major}{minor}.\n",
      "PYTHONCASEOK : ignore case in 'import' statements (Windows).\n",
      "PYTHONUTF8: if set to 1, enable the UTF-8 mode.\n",
      "PYTHONIOENCODING: Encoding[:errors] used for stdin/stdout/stderr.\n",
      "PYTHONFAULTHANDLER: dump the Python traceback on fatal errors.\n",
      "PYTHONHASHSEED: if this variable is set to 'random', a random value is used\n",
      "   to seed the hashes of str and bytes objects.  It can also be set to an\n",
      "   integer in the range [0,4294967295] to get hash values with a\n",
      "   predictable seed.\n",
      "PYTHONMALLOC: set the Python memory allocators and/or install debug hooks\n",
      "   on Python memory allocators. Use PYTHONMALLOC=debug to install debug\n",
      "   hooks.\n",
      "PYTHONCOERCECLOCALE: if this variable is set to 0, it disables the locale\n",
      "   coercion behavior. Use PYTHONCOERCECLOCALE=warn to request display of\n",
      "   locale coercion and locale compatibility warnings on stderr.\n",
      "PYTHONBREAKPOINT: if this variable is set to 0, it disables the default\n",
      "   debugger. It can be set to the callable of your debugger of choice.\n",
      "PYTHONDEVMODE: enable the development mode.\n",
      "PYTHONPYCACHEPREFIX: root directory for bytecode cache (pyc) files.\n",
      "Wall time: 119 ms\n"
     ]
    }
   ],
   "source": [
    "%%time\n",
    "#wydajność\n",
    "\n",
    "i=0;\n",
    "for i in range(0,1000000):\n",
    "    i=i+i\n",
    "\n",
    "#%%time = cell magic"
   ]
  },
  {
   "cell_type": "code",
   "execution_count": 60,
   "metadata": {},
   "outputs": [
    {
     "data": {
      "text/plain": [
       "['.ipynb_checkpoints', 'diagnostyka2.ipynb']"
      ]
     },
     "execution_count": 60,
     "metadata": {},
     "output_type": "execute_result"
    }
   ],
   "source": [
    "#zmiana katalogu\n",
    "import os\n",
    "os.listdir()\n",
    "#os.chdir(\"..\")\n",
    "#os.chdir(\"coś/innego\")\n",
    "#os.chdir(\"Kod PL\")"
   ]
  },
  {
   "cell_type": "markdown",
   "metadata": {},
   "source": [
    "# pip"
   ]
  },
  {
   "cell_type": "raw",
   "metadata": {},
   "source": [
    "pip install \"SomeProject\"\n",
    "pip install \"SomeProject==1.4\"\n",
    "pip install \"SomeProject>=1,<2\"\n",
    "pip install \"SomeProject~=1.4.2\"\t#any version \"==1.4.*\" version that’s also \">=1.4.2\"\n",
    "\n",
    "-upgrade\n",
    "pip install --upgrade SomeProject\n",
    "\n",
    "opcja --user\n",
    "-to install packages that are isolated to the current user\n",
    "-has no effect when inside a virtual environment\n",
    "-if SomeProject defines any command-line scripts or console entry points, it will cause them to be installed\n",
    " inside the user base’s binary directory, which may or may not already be present in your shell’s PATH.\n",
    " If the scripts are not available in your shell after installation, you’ll need to add the directory to your PATH\n",
    "pip install --user [--upgrade] SomeProject\n",
    "\n",
    "\n",
    "-requirements files: are files containing a list of items to be installed using pip install\n",
    "pip install -r requirements.txt\n",
    "\n",
    "-for repeatable installation\n",
    "pip freeze > requirements.txt\n",
    "pip install -r requirements.txt\n",
    "\n",
    "-installing from VCS\n",
    "pip install -e git+https://git.repo/some_pkg.git#egg=SomeProject          # from git\n",
    "pip install -e git+https://git.repo/some_pkg.git@feature#egg=SomeProject  # from a branch\n",
    "\n",
    "-install from an alternate index\n",
    "pip install --index-url http://my.package.repo/simple/ SomeProject\n",
    "-search an additional index during install, in addition to PyPI\n",
    "pip install --extra-index-url http://my.package.repo/simple SomeProject\n",
    "\n",
    "\n",
    "-installing from local src in Development Mode, i.e. in such a way that the project appears to be installed, \n",
    " but yet is still editable from the src tree:\n",
    "pip install -e <path>\n",
    "\n",
    "-you can also install normally from src\n",
    "pip install <path>\n",
    "\n",
    "-installing from local archives\n",
    "pip install ./downloads/SomeProject-1.0.4.tar.gz\n",
    "\n",
    "-install from a local directory containing archives (and don’t check PyPI)\n",
    "pip install --no-index --find-links=file:///local/dir/ SomeProject\n",
    "pip install --no-index --find-links=/local/dir/ SomeProject\n",
    "pip install --no-index --find-links=relative/dir/ SomeProject\n",
    "\n",
    "-installing Prereleases (by default, pip only finds stable versions)\n",
    "pip install --pre SomeProject\n",
    "\n",
    "-installing from wheel lokally\n",
    "pip install C:/some-dir/some-file.whl"
   ]
  },
  {
   "cell_type": "code",
   "execution_count": 61,
   "metadata": {},
   "outputs": [],
   "source": [
    "#instalacja/upgrade (jeśli potrzebne)\n",
    "#!pip install --upgrade pip\n",
    "#!pip install --user --upgrade pip"
   ]
  },
  {
   "cell_type": "code",
   "execution_count": 62,
   "metadata": {},
   "outputs": [
    {
     "name": "stdout",
     "output_type": "stream",
     "text": [
      "pip 20.2.3 from c:\\users\\konrad ulman\\appdata\\local\\programs\\python\\python38\\lib\\site-packages\\pip (python 3.8)\n",
      "\n"
     ]
    }
   ],
   "source": [
    "#wywołania:\n",
    "# pip = pip3 = python -m pip = python -3.8 -m pip\n",
    "!pip3 --version"
   ]
  },
  {
   "cell_type": "code",
   "execution_count": 63,
   "metadata": {},
   "outputs": [
    {
     "name": "stdout",
     "output_type": "stream",
     "text": [
      "Package                Version\n",
      "---------------------- -----------\n",
      "absl-py                0.12.0\n",
      "anyio                  2.2.0\n",
      "appdirs                1.4.4\n",
      "argon2-cffi            20.1.0\n",
      "astunparse             1.6.3\n",
      "async-generator        1.10\n",
      "attrs                  20.3.0\n",
      "Babel                  2.9.0\n",
      "backcall               0.2.0\n",
      "bleach                 3.3.0\n",
      "cachetools             4.2.1\n",
      "certifi                2020.12.5\n",
      "cffi                   1.14.5\n",
      "chardet                4.0.0\n",
      "colorama               0.4.4\n",
      "cycler                 0.10.0\n",
      "decorator              4.4.2\n",
      "defusedxml             0.7.1\n",
      "distlib                0.3.1\n",
      "entrypoints            0.3\n",
      "filelock               3.0.12\n",
      "flatbuffers            1.12\n",
      "gast                   0.3.3\n",
      "google-auth            1.28.0\n",
      "google-auth-oauthlib   0.4.3\n",
      "google-pasta           0.2.0\n",
      "grpcio                 1.32.0\n"
     ]
    },
    {
     "name": "stderr",
     "output_type": "stream",
     "text": [
      "WARNING: You are using pip version 20.2.3; however, version 21.0.1 is available.\n",
      "You should consider upgrading via the 'c:\\users\\konrad ulman\\appdata\\local\\programs\\python\\python38\\python.exe -m pip install --upgrade pip' command.\n"
     ]
    },
    {
     "name": "stdout",
     "output_type": "stream",
     "text": [
      "h5py                   2.10.0\n",
      "idna                   2.10\n",
      "imageio                2.9.0\n",
      "ipykernel              5.5.0\n",
      "ipython                7.21.0\n",
      "ipython-genutils       0.2.0\n",
      "jedi                   0.18.0\n",
      "Jinja2                 2.11.3\n",
      "json5                  0.9.5\n",
      "jsonschema             3.2.0\n",
      "jupyter-client         6.1.12\n",
      "jupyter-core           4.7.1\n",
      "jupyter-packaging      0.7.12\n",
      "jupyter-server         1.5.0\n",
      "jupyterlab             3.0.12\n",
      "jupyterlab-pygments    0.1.2\n",
      "jupyterlab-server      2.3.0\n",
      "Keras-Preprocessing    1.1.2\n",
      "kiwisolver             1.3.1\n",
      "Markdown               3.3.4\n",
      "MarkupSafe             1.1.1\n",
      "matplotlib             3.3.4\n",
      "mistune                0.8.4\n",
      "nbclassic              0.2.6\n",
      "nbclient               0.5.3\n",
      "nbconvert              6.0.7\n",
      "nbformat               5.1.2\n",
      "nest-asyncio           1.5.1\n",
      "networkx               2.5\n",
      "notebook               6.3.0\n",
      "numpy                  1.19.5\n",
      "oauthlib               3.1.0\n",
      "opt-einsum             3.3.0\n",
      "packaging              20.9\n",
      "pandas                 1.2.3\n",
      "pandocfilters          1.4.3\n",
      "parso                  0.8.1\n",
      "pickleshare            0.7.5\n",
      "Pillow                 8.1.2\n",
      "pip                    20.2.3\n",
      "prometheus-client      0.9.0\n",
      "prompt-toolkit         3.0.18\n",
      "protobuf               3.15.6\n",
      "pyasn1                 0.4.8\n",
      "pyasn1-modules         0.2.8\n",
      "pycparser              2.20\n",
      "Pygments               2.8.1\n",
      "pyparsing              2.4.7\n",
      "pyrsistent             0.17.3\n",
      "python-dateutil        2.8.1\n",
      "pytz                   2021.1\n",
      "PyWavelets             1.1.1\n",
      "pywin32                300\n",
      "pywinpty               0.5.7\n",
      "pyzmq                  22.0.3\n",
      "requests               2.25.1\n",
      "requests-oauthlib      1.3.0\n",
      "rsa                    4.7.2\n",
      "scikit-image           0.18.1\n",
      "scipy                  1.6.1\n",
      "Send2Trash             1.5.0\n",
      "setuptools             49.2.1\n",
      "six                    1.15.0\n",
      "sniffio                1.2.0\n",
      "tensorboard            2.4.1\n",
      "tensorboard-plugin-wit 1.8.0\n",
      "tensorflow             2.4.1\n",
      "tensorflow-cpu         2.4.1\n",
      "tensorflow-estimator   2.4.0\n",
      "tensorflow-gpu         2.4.1\n",
      "termcolor              1.1.0\n",
      "terminado              0.9.3\n",
      "testpath               0.4.4\n",
      "tifffile               2021.3.17\n",
      "torch                  1.8.0+cu111\n",
      "torchaudio             0.8.0\n",
      "torchvision            0.9.0+cu111\n",
      "tornado                6.1\n",
      "traitlets              5.0.5\n",
      "typing-extensions      3.7.4.3\n",
      "urllib3                1.26.4\n",
      "virtualenv             20.4.3\n",
      "wcwidth                0.2.5\n",
      "webencodings           0.5.1\n",
      "Werkzeug               1.0.1\n",
      "wheel                  0.36.2\n",
      "wrapt                  1.12.1\n"
     ]
    }
   ],
   "source": [
    "#wszystkie zainstalowane pakiety\n",
    "!pip3 list"
   ]
  },
  {
   "cell_type": "code",
   "execution_count": 64,
   "metadata": {},
   "outputs": [
    {
     "name": "stderr",
     "output_type": "stream",
     "text": [
      "ERROR: Exception:\n",
      "Traceback (most recent call last):\n",
      "  File \"c:\\users\\konrad ulman\\appdata\\local\\programs\\python\\python38\\lib\\site-packages\\pip\\_internal\\cli\\base_command.py\", line 228, in _main\n",
      "    status = self.run(options, args)\n",
      "  File \"c:\\users\\konrad ulman\\appdata\\local\\programs\\python\\python38\\lib\\site-packages\\pip\\_internal\\commands\\search.py\", line 60, in run\n",
      "    pypi_hits = self.search(query, options)\n",
      "  File \"c:\\users\\konrad ulman\\appdata\\local\\programs\\python\\python38\\lib\\site-packages\\pip\\_internal\\commands\\search.py\", line 80, in search\n",
      "    hits = pypi.search({'name': query, 'summary': query}, 'or')\n",
      "  File \"c:\\users\\konrad ulman\\appdata\\local\\programs\\python\\python38\\lib\\xmlrpc\\client.py\", line 1109, in __call__\n",
      "    return self.__send(self.__name, args)\n",
      "  File \"c:\\users\\konrad ulman\\appdata\\local\\programs\\python\\python38\\lib\\xmlrpc\\client.py\", line 1450, in __request\n",
      "    response = self.__transport.request(\n",
      "  File \"c:\\users\\konrad ulman\\appdata\\local\\programs\\python\\python38\\lib\\site-packages\\pip\\_internal\\network\\xmlrpc.py\", line 45, in request\n",
      "    return self.parse_response(response.raw)\n",
      "  File \"c:\\users\\konrad ulman\\appdata\\local\\programs\\python\\python38\\lib\\xmlrpc\\client.py\", line 1341, in parse_response\n",
      "    return u.close()\n",
      "  File \"c:\\users\\konrad ulman\\appdata\\local\\programs\\python\\python38\\lib\\xmlrpc\\client.py\", line 655, in close\n",
      "    raise Fault(**self._stack[0])\n",
      "xmlrpc.client.Fault: <Fault -32500: \"RuntimeError: PyPI's XMLRPC API is currently disabled due to unmanageable load and will be deprecated in the near future. See https://status.python.org/ for more information.\">\n"
     ]
    }
   ],
   "source": [
    "!pip search numpy"
   ]
  },
  {
   "cell_type": "code",
   "execution_count": 65,
   "metadata": {},
   "outputs": [
    {
     "name": "stdout",
     "output_type": "stream",
     "text": [
      "Name: numpy\n",
      "Version: 1.19.5\n",
      "Summary: NumPy is the fundamental package for array computing with Python.\n",
      "Home-page: https://www.numpy.org\n",
      "Author: Travis E. Oliphant et al.\n",
      "Author-email: None\n",
      "License: BSD\n",
      "Location: c:\\users\\konrad ulman\\appdata\\local\\programs\\python\\python38\\lib\\site-packages\n",
      "Requires: \n",
      "Required-by: tensorflow-gpu, tensorflow-cpu, torchvision, torch, tifffile, tensorflow, tensorboard, scipy, scikit-image, PyWavelets, pandas, opt-einsum, matplotlib, Keras-Preprocessing, imageio, h5py\n"
     ]
    }
   ],
   "source": [
    "!pip3 show numpy"
   ]
  },
  {
   "cell_type": "markdown",
   "metadata": {},
   "source": [
    "# przydatne pakiety w ML"
   ]
  },
  {
   "cell_type": "code",
   "execution_count": 66,
   "metadata": {
    "scrolled": false
   },
   "outputs": [
    {
     "name": "stdout",
     "output_type": "stream",
     "text": [
      "Name: numpy\n",
      "Version: 1.19.5\n",
      "Summary: NumPy is the fundamental package for array computing with Python.\n",
      "Home-page: https://www.numpy.org\n",
      "Author: Travis E. Oliphant et al.\n",
      "Author-email: None\n",
      "License: BSD\n",
      "Location: c:\\users\\konrad ulman\\appdata\\local\\programs\\python\\python38\\lib\\site-packages\n",
      "Requires: \n",
      "Required-by: tensorflow-gpu, tensorflow-cpu, torchvision, torch, tifffile, tensorflow, tensorboard, scipy, scikit-image, PyWavelets, pandas, opt-einsum, matplotlib, Keras-Preprocessing, imageio, h5py\n"
     ]
    }
   ],
   "source": [
    "#!pip install numpy\n",
    "#!pip install --upgrade numpy\n",
    "#!pip install --user --upgrade numpy  #jeśli nie admin\n",
    "!pip show numpy"
   ]
  },
  {
   "cell_type": "code",
   "execution_count": 67,
   "metadata": {},
   "outputs": [
    {
     "name": "stdout",
     "output_type": "stream",
     "text": [
      "Name: matplotlib\n",
      "Version: 3.3.4\n",
      "Summary: Python plotting package\n",
      "Home-page: https://matplotlib.org\n",
      "Author: John D. Hunter, Michael Droettboom\n",
      "Author-email: matplotlib-users@python.org\n",
      "License: PSF\n",
      "Location: c:\\users\\konrad ulman\\appdata\\local\\programs\\python\\python38\\lib\\site-packages\n",
      "Requires: pyparsing, python-dateutil, pillow, numpy, cycler, kiwisolver\n",
      "Required-by: scikit-image\n"
     ]
    }
   ],
   "source": [
    "!pip3 show matplotlib"
   ]
  },
  {
   "cell_type": "code",
   "execution_count": 68,
   "metadata": {},
   "outputs": [
    {
     "name": "stdout",
     "output_type": "stream",
     "text": [
      "Name: pandas\n",
      "Version: 1.2.3\n",
      "Summary: Powerful data structures for data analysis, time series, and statistics\n",
      "Home-page: https://pandas.pydata.org\n",
      "Author: None\n",
      "Author-email: None\n",
      "License: BSD\n",
      "Location: c:\\users\\konrad ulman\\appdata\\local\\programs\\python\\python38\\lib\\site-packages\n",
      "Requires: numpy, python-dateutil, pytz\n",
      "Required-by: \n"
     ]
    }
   ],
   "source": [
    "!pip3 show pandas"
   ]
  },
  {
   "cell_type": "code",
   "execution_count": 69,
   "metadata": {
    "scrolled": true
   },
   "outputs": [
    {
     "name": "stdout",
     "output_type": "stream",
     "text": [
      "Name: scikit-image\n",
      "Version: 0.18.1\n",
      "Summary: Image processing in Python\n",
      "Home-page: https://scikit-image.org\n",
      "Author: None\n",
      "Author-email: None\n",
      "License: Modified BSD\n",
      "Location: c:\\users\\konrad ulman\\appdata\\local\\programs\\python\\python38\\lib\\site-packages\n",
      "Requires: numpy, matplotlib, networkx, tifffile, pillow, scipy, imageio, PyWavelets\n",
      "Required-by: \n"
     ]
    }
   ],
   "source": [
    "!pip3 show scikit-image"
   ]
  },
  {
   "cell_type": "code",
   "execution_count": 70,
   "metadata": {},
   "outputs": [
    {
     "name": "stdout",
     "output_type": "stream",
     "text": [
      "Name: scipy\n",
      "Version: 1.6.1\n",
      "Summary: SciPy: Scientific Library for Python\n",
      "Home-page: https://www.scipy.org\n",
      "Author: None\n",
      "Author-email: None\n",
      "License: BSD\n",
      "Location: c:\\users\\konrad ulman\\appdata\\local\\programs\\python\\python38\\lib\\site-packages\n",
      "Requires: numpy\n",
      "Required-by: scikit-image\n"
     ]
    }
   ],
   "source": [
    "!pip3 show SciPy"
   ]
  },
  {
   "cell_type": "code",
   "execution_count": 71,
   "metadata": {},
   "outputs": [
    {
     "name": "stdout",
     "output_type": "stream",
     "text": [
      "Name: Pillow\n",
      "Version: 8.1.2\n",
      "Summary: Python Imaging Library (Fork)\n",
      "Home-page: https://python-pillow.org\n",
      "Author: Alex Clark (PIL Fork Author)\n",
      "Author-email: aclark@python-pillow.org\n",
      "License: HPND\n",
      "Location: c:\\users\\konrad ulman\\appdata\\local\\programs\\python\\python38\\lib\\site-packages\n",
      "Requires: \n",
      "Required-by: torchvision, scikit-image, matplotlib, imageio\n"
     ]
    }
   ],
   "source": [
    "!pip show Pillow"
   ]
  },
  {
   "cell_type": "markdown",
   "metadata": {},
   "source": [
    "# Jupyter"
   ]
  },
  {
   "cell_type": "raw",
   "metadata": {},
   "source": [
    "Jupyter notebook:\n",
    "-can contain both code and rich text elements, such as figures, links, equations\n",
    "-supports many languages\n",
    "-Jupyter Notebook App allows you to edit and run your notebooks via a web browser\n",
    "-two main components: the kernels and a dashboard\n",
    "-a kernel is a program that runs and introspects the user’s code\n",
    " The Jupyter Notebook App has a kernel for Python code, but there are also kernels available for other programming languages\n",
    "-the dashboard of the application: shows you the notebook documents, manage the kernels\n",
    "-IPython is now the name of the Python backend, which is also known as the kernel"
   ]
  },
  {
   "cell_type": "code",
   "execution_count": 72,
   "metadata": {},
   "outputs": [],
   "source": [
    "#instalacja:\n",
    "#!pip install jupyter"
   ]
  },
  {
   "cell_type": "code",
   "execution_count": 73,
   "metadata": {},
   "outputs": [
    {
     "name": "stdout",
     "output_type": "stream",
     "text": [
      "jupyter core     : 4.7.1\n",
      "jupyter-notebook : 6.3.0\n",
      "qtconsole        : not installed\n",
      "ipython          : 7.21.0\n",
      "ipykernel        : 5.5.0\n",
      "jupyter client   : 6.1.12\n",
      "jupyter lab      : 3.0.12\n",
      "nbconvert        : 6.0.7\n",
      "ipywidgets       : not installed\n",
      "nbformat         : 5.1.2\n",
      "traitlets        : 5.0.5\n"
     ]
    },
    {
     "name": "stderr",
     "output_type": "stream",
     "text": [
      "c:\\users\\konrad ulman\\appdata\\local\\programs\\python\\python38\\lib\\site-packages\\jupyter_server\\transutils.py:13: FutureWarning: The alias `_()` will be deprecated. Use `_i18n()` instead.\n",
      "  warnings.warn(warn_msg, FutureWarning)\n"
     ]
    }
   ],
   "source": [
    "!jupyter --version"
   ]
  },
  {
   "cell_type": "code",
   "execution_count": 74,
   "metadata": {},
   "outputs": [],
   "source": [
    "#diagnostyka\n",
    "\n",
    "#w konsoli, skąd opalamy notebooka\n",
    "#jupyter notebook --debug > log.file 2>&1\n",
    "#lub tak:\n",
    "#!ipykernel kernel --debug > log.file 2>&1"
   ]
  },
  {
   "cell_type": "code",
   "execution_count": 75,
   "metadata": {},
   "outputs": [],
   "source": [
    "#odpalenie w jupyterze struktury katalogów\n",
    "#w przeglądarce:\n",
    "#http://localhost:8888/tree"
   ]
  },
  {
   "cell_type": "markdown",
   "metadata": {},
   "source": [
    "# virtualenv"
   ]
  },
  {
   "cell_type": "code",
   "execution_count": 76,
   "metadata": {},
   "outputs": [],
   "source": [
    "#!py -3.8 -m pip install -U pip virtualenv"
   ]
  },
  {
   "cell_type": "code",
   "execution_count": 77,
   "metadata": {},
   "outputs": [
    {
     "name": "stdout",
     "output_type": "stream",
     "text": [
      "virtualenv 20.4.3 from c:\\users\\konrad ulman\\appdata\\local\\programs\\python\\python38\\lib\\site-packages\\virtualenv\\__init__.py\n"
     ]
    }
   ],
   "source": [
    "!virtualenv --version"
   ]
  },
  {
   "cell_type": "code",
   "execution_count": 78,
   "metadata": {},
   "outputs": [
    {
     "name": "stdout",
     "output_type": "stream",
     "text": [
      "usage: virtualenv [--version] [--with-traceback] [-v | -q] [--read-only-app-data] [--app-data APP_DATA] [--reset-app-data] [--upgrade-embed-wheels] [--discovery {builtin}] [-p py] [--try-first-with py_exe]\n",
      "                  [--creator {builtin,cpython3-win,venv}] [--seeder {app-data,pip}] [--no-seed] [--activators comma_sep_list] [--clear] [--no-vcs-ignore] [--system-site-packages] [--copies] [--no-download | --download]\n",
      "                  [--extra-search-dir d [d ...]] [--pip version] [--setuptools version] [--wheel version] [--no-pip] [--no-setuptools] [--no-wheel] [--no-periodic-update] [--symlink-app-data] [--prompt prompt] [-h]\n",
      "                  dest\n",
      "\n",
      "optional arguments:\n",
      "  --version                     display the version of the virtualenv package and its location, then exit\n",
      "  --with-traceback              on failure also display the stacktrace internals of virtualenv (default: False)\n",
      "  --read-only-app-data          use app data folder in read-only mode (write operations will fail with error) (default: False)\n",
      "  --app-data APP_DATA           a data folder used as cache by the virtualenv (default: C:\\Users\\Konrad Ulman\\AppData\\Local\\pypa\\virtualenv)\n",
      "  --reset-app-data              start with empty app data folder (default: False)\n",
      "  --upgrade-embed-wheels        trigger a manual update of the embedded wheels (default: False)\n",
      "  -h, --help                    show this help message and exit\n",
      "\n",
      "verbosity:\n",
      "  verbosity = verbose - quiet, default INFO, mapping => CRITICAL=0, ERROR=1, WARNING=2, INFO=3, DEBUG=4, NOTSET=5\n",
      "\n",
      "  -v, --verbose                 increase verbosity (default: 2)\n",
      "  -q, --quiet                   decrease verbosity (default: 0)\n",
      "\n",
      "discovery:\n",
      "  discover and provide a target interpreter\n",
      "\n",
      "  --discovery {builtin}         interpreter discovery method (default: builtin)\n",
      "  -p py, --python py            interpreter based on what to create environment (path/identifier) - by default use the interpreter where the tool is installed - first found wins (default: [])\n",
      "  --try-first-with py_exe       try first these interpreters before starting the discovery (default: [])\n",
      "\n",
      "creator:\n",
      "  options for creator builtin\n",
      "\n",
      "  --creator {builtin,cpython3-win,venv}\n",
      "                                create environment via (builtin = cpython3-win) (default: builtin)\n",
      "  dest                          directory to create virtualenv at\n",
      "  --clear                       remove the destination directory if exist before starting (will overwrite files otherwise) (default: False)\n",
      "  --no-vcs-ignore               don't create VCS ignore directive in the destination directory (default: False)\n",
      "  --system-site-packages        give the virtual environment access to the system site-packages dir (default: False)\n",
      "  --copies, --always-copy       try to use copies rather than symlinks, even when symlinks are the default for the platform (default: True)\n",
      "\n",
      "seeder:\n",
      "  options for seeder app-data\n",
      "\n",
      "  --seeder {app-data,pip}       seed packages install method (default: app-data)\n",
      "  --no-seed, --without-pip      do not install seed packages (default: False)\n",
      "  --no-download, --never-download\n",
      "                                pass to disable download of the latest pip/setuptools/wheel from PyPI (default: True)\n",
      "  --download                    pass to enable download of the latest pip/setuptools/wheel from PyPI (default: False)\n",
      "  --extra-search-dir d [d ...]  a path containing wheels to extend the internal wheel list (can be set 1+ times) (default: [])\n",
      "  --pip version                 version of pip to install as seed: embed, bundle or exact version (default: bundle)\n",
      "  --setuptools version          version of setuptools to install as seed: embed, bundle or exact version (default: bundle)\n",
      "  --wheel version               version of wheel to install as seed: embed, bundle or exact version (default: bundle)\n",
      "  --no-pip                      do not install pip (default: False)\n",
      "  --no-setuptools               do not install setuptools (default: False)\n",
      "  --no-wheel                    do not install wheel (default: False)\n",
      "  --no-periodic-update          disable the periodic (once every 14 days) update of the embedded wheels (default: False)\n",
      "  --symlink-app-data            not supported - symlink the python packages from the app-data folder (requires seed pip>=19.3) (default: False)\n",
      "\n",
      "activators:\n",
      "  options for activation scripts\n",
      "\n",
      "  --activators comma_sep_list   activators to generate - default is all supported (default: bash,batch,fish,powershell,python,xonsh)\n",
      "  --prompt prompt               provides an alternative prompt prefix for this environment (default: None)\n",
      "\n",
      "config file C:\\Users\\Konrad Ulman\\AppData\\Local\\pypa\\virtualenv\\virtualenv.ini missing (change via env var VIRTUALENV_CONFIG_FILE)\n"
     ]
    }
   ],
   "source": [
    "!virtualenv -h"
   ]
  },
  {
   "cell_type": "raw",
   "metadata": {},
   "source": [
    "#INSTALACJA PHYTONA W ŚRODOWISKU WIRTUALNYM (np. aby zainstalować osobno kilka wersji)\n",
    "#parametry instalacji: interpreter, katalog\n",
    "\n",
    "#!virtualenv --python=\"C:\\Program Files\\Python36\\python.exe\" \"C:\\Users\\user\\virtualenv\\virtA\"\n",
    "\n",
    "użycie: (tylko w cmd ponieważ w PowerShell mimo manipulacji polisami bezpieczeństwa nie działa)\n",
    "\n",
    "cd \"C:\\Users\\user\\virtualenv\\virtA\"\n",
    "cd Scripts\n",
    "activate.bat\n",
    "\n",
    "(virtA) pip --version\n",
    "(virtA) ...              #inne polecenia jak w konsoli pythona\n",
    "\n",
    "(virtA) .\\Scripts\\deactivate.bat"
   ]
  },
  {
   "cell_type": "markdown",
   "metadata": {},
   "source": [
    "# CUDA & CUDNN"
   ]
  },
  {
   "cell_type": "raw",
   "metadata": {},
   "source": [
    "CUDA\n",
    "zinstalować CUDA 10.1: zasadniczo jest potrzebne tylko bin, include, lib\n",
    "\n",
    "CUDANN\n",
    "rozpakować zip i skopiować zawartość do katalogu CUDA\n",
    "\n",
    "kompatybilność (https://docs.nvidia.com/cuda/cuda-installation-guide-microsoft-windows/)\n",
    "                                                                   cudnn CUDA\n",
    "tensorflow_gpu-2.2.0   3.5-3.8   MSVC 2019   Bazel 2.0.0           7.4   10.1\n",
    "tensorflow_gpu-2.1.0   3.5-3.7   MSVC 2019   Bazel 0.27.1-0.29.1   7.4   10.1\n",
    "tensorflow_gpu-2.0.0   3.5-3.7   MSVC 2017   Bazel 0.26.1          7.4   10"
   ]
  },
  {
   "cell_type": "code",
   "execution_count": 79,
   "metadata": {},
   "outputs": [
    {
     "name": "stdout",
     "output_type": "stream",
     "text": [
      "nvcc: NVIDIA (R) Cuda compiler driver\n",
      "Copyright (c) 2005-2020 NVIDIA Corporation\n",
      "Built on Thu_Jun_11_22:26:48_Pacific_Daylight_Time_2020\n",
      "Cuda compilation tools, release 11.0, V11.0.194\n",
      "Build cuda_11.0_bu.relgpu_drvr445TC445_37.28540450_0\n"
     ]
    }
   ],
   "source": [
    "!nvcc --version"
   ]
  },
  {
   "cell_type": "code",
   "execution_count": 80,
   "metadata": {},
   "outputs": [
    {
     "name": "stderr",
     "output_type": "stream",
     "text": [
      "'nvidia-smi' is not recognized as an internal or external command,\n",
      "operable program or batch file.\n"
     ]
    }
   ],
   "source": [
    "!nvidia-smi"
   ]
  },
  {
   "cell_type": "code",
   "execution_count": 81,
   "metadata": {},
   "outputs": [],
   "source": [
    "#WIN 10: W przypadku błędów dotyczących bibliotek CUDA lub BLAS, a także tensorFlow_gpu i numpy, \n",
    "#    a związanych z niekompatybilnością z modułem bezpieczeństwa Windows 10 (kompilacja 2004, 20H2)\n",
    "#    można spróbować następujących środków:\n",
    "#!pip3 uninstall numpy\n",
    "#!pip3 install numpy==1.19.3"
   ]
  },
  {
   "cell_type": "markdown",
   "metadata": {},
   "source": [
    "# Tensorflow"
   ]
  },
  {
   "cell_type": "raw",
   "metadata": {},
   "source": [
    "Keras jest teraz częścią TensorFlow"
   ]
  },
  {
   "cell_type": "code",
   "execution_count": 82,
   "metadata": {},
   "outputs": [],
   "source": [
    "#!pip3 install tensorflow_gpu==2.2\n",
    "#!pip3 install --upgrade tensorflow-gpu\n",
    "\n",
    "#overwrite the cache of the previous version and install the new version\n",
    "#!pip3 install --no-cache-dir -I tensorflow==2.2"
   ]
  },
  {
   "cell_type": "code",
   "execution_count": 83,
   "metadata": {},
   "outputs": [
    {
     "name": "stdout",
     "output_type": "stream",
     "text": [
      "Name: tensorflow-gpu\n",
      "Version: 2.4.1\n",
      "Summary: TensorFlow is an open source machine learning framework for everyone.\n",
      "Home-page: https://www.tensorflow.org/\n",
      "Author: Google Inc.\n",
      "Author-email: packages@tensorflow.org\n",
      "License: Apache 2.0\n",
      "Location: c:\\users\\konrad ulman\\appdata\\roaming\\python\\python38\\site-packages\n",
      "Requires: typing-extensions, wheel, numpy, wrapt, protobuf, termcolor, keras-preprocessing, flatbuffers, tensorflow-estimator, grpcio, google-pasta, astunparse, absl-py, h5py, tensorboard, gast, six, opt-einsum\n",
      "Required-by: \n"
     ]
    }
   ],
   "source": [
    "!pip3 show tensorflow-gpu\n",
    "#!pip3 show tensorflow_gpu  #tak też chodzi"
   ]
  },
  {
   "cell_type": "code",
   "execution_count": 84,
   "metadata": {},
   "outputs": [
    {
     "name": "stdout",
     "output_type": "stream",
     "text": [
      "Name: tensorflow-cpu\n",
      "Version: 2.4.1\n",
      "Summary: TensorFlow is an open source machine learning framework for everyone.\n",
      "Home-page: https://www.tensorflow.org/\n",
      "Author: Google Inc.\n",
      "Author-email: packages@tensorflow.org\n",
      "License: Apache 2.0\n",
      "Location: c:\\users\\konrad ulman\\appdata\\roaming\\python\\python38\\site-packages\n",
      "Requires: six, wheel, grpcio, google-pasta, opt-einsum, flatbuffers, wrapt, tensorboard, gast, keras-preprocessing, termcolor, tensorflow-estimator, typing-extensions, protobuf, absl-py, h5py, astunparse, numpy\n",
      "Required-by: \n"
     ]
    }
   ],
   "source": [
    "!pip3 show tensorflow-cpu\n",
    "#!pip show tensorflow_cpu"
   ]
  },
  {
   "cell_type": "code",
   "execution_count": 85,
   "metadata": {},
   "outputs": [
    {
     "name": "stdout",
     "output_type": "stream",
     "text": [
      "Name: tensorflow\n",
      "Version: 2.4.1\n",
      "Summary: TensorFlow is an open source machine learning framework for everyone.\n",
      "Home-page: https://www.tensorflow.org/\n",
      "Author: Google Inc.\n",
      "Author-email: packages@tensorflow.org\n",
      "License: Apache 2.0\n",
      "Location: c:\\users\\konrad ulman\\appdata\\local\\programs\\python\\python38\\lib\\site-packages\n",
      "Requires: opt-einsum, protobuf, astunparse, gast, termcolor, flatbuffers, typing-extensions, absl-py, six, wheel, tensorflow-estimator, grpcio, wrapt, keras-preprocessing, google-pasta, numpy, h5py, tensorboard\n",
      "Required-by: \n"
     ]
    }
   ],
   "source": [
    "!pip3 show tensorflow"
   ]
  },
  {
   "cell_type": "code",
   "execution_count": 86,
   "metadata": {},
   "outputs": [
    {
     "name": "stdout",
     "output_type": "stream",
     "text": [
      "2.4.1\n"
     ]
    }
   ],
   "source": [
    "import tensorflow as tf\n",
    "print(tf.__version__)"
   ]
  },
  {
   "cell_type": "code",
   "execution_count": 87,
   "metadata": {},
   "outputs": [
    {
     "name": "stdout",
     "output_type": "stream",
     "text": [
      "[PhysicalDevice(name='/physical_device:GPU:0', device_type='GPU')]\n"
     ]
    }
   ],
   "source": [
    "import tensorflow as tf\n",
    "\n",
    "gpus = tf.config.experimental.list_physical_devices(device_type=\"GPU\")\n",
    "print(gpus)"
   ]
  },
  {
   "cell_type": "code",
   "execution_count": 88,
   "metadata": {},
   "outputs": [
    {
     "name": "stderr",
     "output_type": "stream",
     "text": [
      "2021-03-23 22:43:08.822613: I tensorflow/stream_executor/platform/default/dso_loader.cc:49] Successfully opened dynamic library cudart64_110.dll\n",
      "C:\\Users\\Konrad Ulman\\AppData\\Local\\Programs\\Python\\Python38\\python.exe: No module named tensorflow.__main__; 'tensorflow' is a package and cannot be directly executed\n"
     ]
    }
   ],
   "source": [
    "!py -m tensorflow --version"
   ]
  },
  {
   "cell_type": "code",
   "execution_count": 89,
   "metadata": {},
   "outputs": [
    {
     "data": {
      "text/plain": [
       "True"
      ]
     },
     "execution_count": 89,
     "metadata": {},
     "output_type": "execute_result"
    }
   ],
   "source": [
    "import tensorflow as tf\n",
    "tf.executing_eagerly()"
   ]
  },
  {
   "cell_type": "code",
   "execution_count": 90,
   "metadata": {},
   "outputs": [
    {
     "data": {
      "text/plain": [
       "True"
      ]
     },
     "execution_count": 90,
     "metadata": {},
     "output_type": "execute_result"
    }
   ],
   "source": [
    "import tensorflow as tf\n",
    "tf.test.is_gpu_available()"
   ]
  },
  {
   "cell_type": "code",
   "execution_count": 91,
   "metadata": {},
   "outputs": [
    {
     "name": "stdout",
     "output_type": "stream",
     "text": [
      "/device:GPU:0\n",
      "Num GPUs Available:  1\n"
     ]
    }
   ],
   "source": [
    "import tensorflow as tf\n",
    "print(tf.test.gpu_device_name())\n",
    "\n",
    "import tensorflow as tf\n",
    "print(\"Num GPUs Available: \", len(tf.config.experimental.list_physical_devices('GPU')))\n"
   ]
  },
  {
   "cell_type": "code",
   "execution_count": 92,
   "metadata": {},
   "outputs": [
    {
     "data": {
      "text/plain": [
       "[PhysicalDevice(name='/physical_device:CPU:0', device_type='CPU'),\n",
       " PhysicalDevice(name='/physical_device:GPU:0', device_type='GPU')]"
      ]
     },
     "execution_count": 92,
     "metadata": {},
     "output_type": "execute_result"
    }
   ],
   "source": [
    "import tensorflow as tf\n",
    "tf.config.list_physical_devices()"
   ]
  },
  {
   "cell_type": "code",
   "execution_count": 93,
   "metadata": {},
   "outputs": [
    {
     "data": {
      "text/plain": [
       "[PhysicalDevice(name='/physical_device:CPU:0', device_type='CPU'),\n",
       " PhysicalDevice(name='/physical_device:GPU:0', device_type='GPU')]"
      ]
     },
     "execution_count": 93,
     "metadata": {},
     "output_type": "execute_result"
    }
   ],
   "source": [
    "import tensorflow as tf\n",
    "tf.config.experimental.list_physical_devices()"
   ]
  },
  {
   "cell_type": "code",
   "execution_count": 94,
   "metadata": {},
   "outputs": [
    {
     "name": "stdout",
     "output_type": "stream",
     "text": [
      "[name: \"/device:CPU:0\"\n",
      "device_type: \"CPU\"\n",
      "memory_limit: 268435456\n",
      "locality {\n",
      "}\n",
      "incarnation: 9489365865873673624\n",
      ", name: \"/device:GPU:0\"\n",
      "device_type: \"GPU\"\n",
      "memory_limit: 9988323456\n",
      "locality {\n",
      "  bus_id: 1\n",
      "  links {\n",
      "  }\n",
      "}\n",
      "incarnation: 13660078052229405826\n",
      "physical_device_desc: \"device: 0, name: GeForce GTX 1080 Ti, pci bus id: 0000:08:00.0, compute capability: 6.1\"\n",
      "]\n"
     ]
    }
   ],
   "source": [
    "from tensorflow.python.client import device_lib\n",
    "print(device_lib.list_local_devices())"
   ]
  },
  {
   "cell_type": "code",
   "execution_count": 95,
   "metadata": {},
   "outputs": [
    {
     "name": "stdout",
     "output_type": "stream",
     "text": [
      "['/device:CPU:0', '/device:GPU:0']\n"
     ]
    }
   ],
   "source": [
    "#A second method for getting devices:\n",
    "from tensorflow.python.client import device_lib\n",
    "print([device.name for device in device_lib.list_local_devices() if device.name != None])"
   ]
  },
  {
   "cell_type": "code",
   "execution_count": 96,
   "metadata": {},
   "outputs": [
    {
     "name": "stdout",
     "output_type": "stream",
     "text": [
      "Time (s) to convolve 32x7x7x3 filter over random 100x100x100x3 images (batch x height x width x channel). Sum of ten runs.\n",
      "CPU (s):\n",
      "1.04529500000001\n",
      "GPU (s):\n",
      "0.03335669999995616\n",
      "GPU speedup over CPU: 31x\n"
     ]
    }
   ],
   "source": [
    "#test GPU vs. CPU\n",
    "import tensorflow as tf\n",
    "import timeit\n",
    "\n",
    "device_name = tf.test.gpu_device_name()\n",
    "if device_name != '/device:GPU:0':\n",
    "    print('\\n\\nThis error most likely means that this notebook is not '\n",
    "          'configured to use a GPU.  Change this in Notebook Settings via the '\n",
    "          'command palette (cmd/ctrl-shift-P) or the Edit menu.\\n\\n')\n",
    "    raise SystemError('GPU device not found')\n",
    "\n",
    "def cpu():\n",
    "    with tf.device('/cpu:0'):\n",
    "        random_image_cpu = tf.random.normal((100, 100, 100, 3))\n",
    "        net_cpu = tf.keras.layers.Conv2D(32, 7)(random_image_cpu)\n",
    "    return tf.math.reduce_sum(net_cpu)\n",
    "\n",
    "def gpu():\n",
    "    with tf.device('/device:GPU:0'):\n",
    "        random_image_gpu = tf.random.normal((100, 100, 100, 3))\n",
    "        net_gpu = tf.keras.layers.Conv2D(32, 7)(random_image_gpu)\n",
    "    return tf.math.reduce_sum(net_gpu)\n",
    "  \n",
    "# warm up\n",
    "cpu()\n",
    "gpu()\n",
    "\n",
    "# Run the op several times.\n",
    "print('Time (s) to convolve 32x7x7x3 filter over random 100x100x100x3 images '\n",
    "      '(batch x height x width x channel). Sum of ten runs.')\n",
    "print('CPU (s):')\n",
    "cpu_time = timeit.timeit('cpu()', number=10, setup=\"from __main__ import cpu\")\n",
    "print(cpu_time)\n",
    "print('GPU (s):')\n",
    "gpu_time = timeit.timeit('gpu()', number=10, setup=\"from __main__ import gpu\")\n",
    "print(gpu_time)\n",
    "print('GPU speedup over CPU: {}x'.format(int(cpu_time/gpu_time)))"
   ]
  },
  {
   "cell_type": "code",
   "execution_count": 97,
   "metadata": {},
   "outputs": [
    {
     "name": "stdout",
     "output_type": "stream",
     "text": [
      "Name: tensorboard\n",
      "Version: 2.4.1\n",
      "Summary: TensorBoard lets you watch Tensors Flow\n",
      "Home-page: https://github.com/tensorflow/tensorboard\n",
      "Author: Google Inc.\n",
      "Author-email: packages@tensorflow.org\n",
      "License: Apache 2.0\n",
      "Location: c:\\users\\konrad ulman\\appdata\\local\\programs\\python\\python38\\lib\\site-packages\n",
      "Requires: markdown, google-auth-oauthlib, requests, absl-py, protobuf, grpcio, setuptools, tensorboard-plugin-wit, numpy, google-auth, six, wheel, werkzeug\n",
      "Required-by: tensorflow-gpu, tensorflow-cpu, tensorflow\n"
     ]
    }
   ],
   "source": [
    "!pip show tensorboard"
   ]
  },
  {
   "cell_type": "markdown",
   "metadata": {},
   "source": [
    "# PyTorch"
   ]
  },
  {
   "cell_type": "code",
   "execution_count": 98,
   "metadata": {
    "scrolled": true
   },
   "outputs": [],
   "source": [
    "#konfigurator wersji: https://pytorch.org/get-started/locally/\n",
    "#powstałą komendę instalacyjną skopiować do cmd i uruchomić\n",
    "\n",
    "#przykłady:\n",
    "#!pip install https://download.pytorch.org/whl/cpu/torch-1.1.0-cp36-cp36m-win_amd64.whl\n",
    "\n",
    "#Instalacja Torch (1.4 nie chodzi z CUDA 10.1):\n",
    "#pip install torch===1.5.0+cu101 torchvision===0.6.0+cu101 -f https://download.pytorch.org/whl/torch_stable.html"
   ]
  },
  {
   "cell_type": "code",
   "execution_count": 99,
   "metadata": {},
   "outputs": [
    {
     "name": "stdout",
     "output_type": "stream",
     "text": [
      "Name: torch\n",
      "Version: 1.8.0+cu111\n",
      "Summary: Tensors and Dynamic neural networks in Python with strong GPU acceleration\n",
      "Home-page: https://pytorch.org/\n",
      "Author: PyTorch Team\n",
      "Author-email: packages@pytorch.org\n",
      "License: BSD-3\n",
      "Location: c:\\users\\konrad ulman\\appdata\\local\\programs\\python\\python38\\lib\\site-packages\n",
      "Requires: typing-extensions, numpy\n",
      "Required-by: torchvision, torchaudio\n"
     ]
    }
   ],
   "source": [
    "!pip show torch"
   ]
  },
  {
   "cell_type": "code",
   "execution_count": 100,
   "metadata": {
    "scrolled": false
   },
   "outputs": [
    {
     "name": "stdout",
     "output_type": "stream",
     "text": [
      "Name: torchvision\n",
      "Version: 0.9.0+cu111\n",
      "Summary: image and video datasets and models for torch deep learning\n",
      "Home-page: https://github.com/pytorch/vision\n",
      "Author: PyTorch Core Team\n",
      "Author-email: soumith@pytorch.org\n",
      "License: BSD\n",
      "Location: c:\\users\\konrad ulman\\appdata\\local\\programs\\python\\python38\\lib\\site-packages\n",
      "Requires: pillow, torch, numpy\n",
      "Required-by: \n"
     ]
    }
   ],
   "source": [
    "#!pip install torchvision\n",
    "!pip show torchvision"
   ]
  },
  {
   "cell_type": "code",
   "execution_count": 101,
   "metadata": {},
   "outputs": [
    {
     "data": {
      "text/plain": [
       "True"
      ]
     },
     "execution_count": 101,
     "metadata": {},
     "output_type": "execute_result"
    }
   ],
   "source": [
    "import torch\n",
    "torch.backends.cudnn.enabled"
   ]
  },
  {
   "cell_type": "code",
   "execution_count": 102,
   "metadata": {},
   "outputs": [
    {
     "data": {
      "text/plain": [
       "True"
      ]
     },
     "execution_count": 102,
     "metadata": {},
     "output_type": "execute_result"
    }
   ],
   "source": [
    "import torch\n",
    "torch.cuda.is_available()"
   ]
  },
  {
   "cell_type": "code",
   "execution_count": 103,
   "metadata": {},
   "outputs": [
    {
     "name": "stdout",
     "output_type": "stream",
     "text": [
      "11.1\n"
     ]
    }
   ],
   "source": [
    "import torch\n",
    "print(torch.version.cuda)"
   ]
  },
  {
   "cell_type": "markdown",
   "metadata": {},
   "source": [
    "# konwersja typów"
   ]
  },
  {
   "cell_type": "raw",
   "metadata": {},
   "source": [
    "╔══════════════════════════╦═══════════════════════════════╦════════════════════╦═════════════════════════╗\n",
    "║        Data type         ║             dtype             ║     CPU tensor     ║       GPU tensor        ║\n",
    "╠══════════════════════════╬═══════════════════════════════╬════════════════════╬═════════════════════════╣\n",
    "║ 32-bit floating point    ║ torch.float32 or torch.float  ║ torch.FloatTensor  ║ torch.cuda.FloatTensor  ║\n",
    "║ 64-bit floating point    ║ torch.float64 or torch.double ║ torch.DoubleTensor ║ torch.cuda.DoubleTensor ║\n",
    "║ 16-bit floating point    ║ torch.float16 or torch.half   ║ torch.HalfTensor   ║ torch.cuda.HalfTensor   ║\n",
    "║ 8-bit integer (unsigned) ║ torch.uint8                   ║ torch.ByteTensor   ║ torch.cuda.ByteTensor   ║\n",
    "║ 8-bit integer (signed)   ║ torch.int8                    ║ torch.CharTensor   ║ torch.cuda.CharTensor   ║\n",
    "║ 16-bit integer (signed)  ║ torch.int16 or torch.short    ║ torch.ShortTensor  ║ torch.cuda.ShortTensor  ║\n",
    "║ 32-bit integer (signed)  ║ torch.int32 or torch.int      ║ torch.IntTensor    ║ torch.cuda.IntTensor    ║\n",
    "║ 64-bit integer (signed)  ║ torch.int64 or torch.long     ║ torch.LongTensor   ║ torch.cuda.LongTensor   ║\n",
    "║ Boolean                  ║ torch.bool                    ║ torch.BoolTensor   ║ torch.cuda.BoolTensor   ║\n",
    "╚══════════════════════════╩═══════════════════════════════╩════════════════════╩═════════════════════════╝"
   ]
  },
  {
   "cell_type": "code",
   "execution_count": 31,
   "metadata": {},
   "outputs": [
    {
     "data": {
      "text/plain": [
       "[2, 3, 4, 2, 3, 4]"
      ]
     },
     "execution_count": 31,
     "metadata": {},
     "output_type": "execute_result"
    }
   ],
   "source": [
    "p = [2, 3, 4]; p*2"
   ]
  },
  {
   "cell_type": "code",
   "execution_count": null,
   "metadata": {},
   "outputs": [],
   "source": []
  }
 ],
 "metadata": {
  "kernelspec": {
   "display_name": "Python 3",
   "language": "python",
   "name": "python3"
  },
  "language_info": {
   "codemirror_mode": {
    "name": "ipython",
    "version": 3
   },
   "file_extension": ".py",
   "mimetype": "text/x-python",
   "name": "python",
   "nbconvert_exporter": "python",
   "pygments_lexer": "ipython3",
   "version": "3.8.8"
  }
 },
 "nbformat": 4,
 "nbformat_minor": 4
}
